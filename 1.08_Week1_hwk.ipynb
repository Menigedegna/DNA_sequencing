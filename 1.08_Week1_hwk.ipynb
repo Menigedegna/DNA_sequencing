{
 "cells": [
  {
   "cell_type": "markdown",
   "id": "c41705ef-3e98-4c84-859b-d2a6e8fd91b7",
   "metadata": {},
   "source": [
    "<h2>Find matches in lambda virus genome</h2>\n",
    "<hr>\n",
    "<p>Week 1 homework from <a href=\"https://www.coursera.org/learn/dna-sequencing/home/welcome\">Algorithms for DNA sequencing</a></p>"
   ]
  },
  {
   "cell_type": "code",
   "execution_count": 1,
   "id": "f43652ab-73f1-457c-8ffe-f51f6b9e6db3",
   "metadata": {},
   "outputs": [
    {
     "data": {
      "text/plain": [
       "'GGGCGGCGACCTCGCGGGTTTTCGCTATTTATGAAAATTTTCCGGTTTAAGGCGTTTCCGTTCTTCTTCGTCATAACTTAATGTTTTTATTTAAAATACC'"
      ]
     },
     "execution_count": 1,
     "metadata": {},
     "output_type": "execute_result"
    }
   ],
   "source": [
    "# function to read genome (imported from course module)\n",
    "def readGenome(filename):\n",
    "    genome = ''\n",
    "    with open(filename, 'r') as f:\n",
    "        for line in f:\n",
    "            # ignore header line with genome information\n",
    "            if not line[0] == '>':\n",
    "                genome += line.rstrip()\n",
    "    return genome\n",
    "\n",
    "# get genome\n",
    "genome = readGenome('lambda_virus.fa')\n",
    "genome[:100]"
   ]
  },
  {
   "cell_type": "code",
   "execution_count": 2,
   "id": "00e3fa54-fffa-495a-b753-a28687fd35b3",
   "metadata": {},
   "outputs": [],
   "source": [
    "#function to find exact matches (imported from course module)\n",
    "def naive(p, t):\n",
    "    occurrences = []\n",
    "    for i in range(len(t) - len(p) + 1):\n",
    "        match = True\n",
    "        for j in range(len(p)):\n",
    "            if t[i+j] != p[j]:\n",
    "                match = False\n",
    "                break\n",
    "        if match:\n",
    "            occurrences.append(i)\n",
    "    return occurrences"
   ]
  },
  {
   "cell_type": "code",
   "execution_count": 3,
   "id": "01a3dc61-d917-4ed8-b8c2-a89cf32ca86f",
   "metadata": {},
   "outputs": [],
   "source": [
    "#function to get complementary strand of sequence (imported from course module)\n",
    "def reverseComplement(s):\n",
    "    complement = {'A': 'T', 'C': 'G', 'G': 'C', 'T': 'A', 'N': 'N'}\n",
    "    t = ''\n",
    "    for base in s:\n",
    "        t = complement[base] + t\n",
    "    return t"
   ]
  },
  {
   "cell_type": "markdown",
   "id": "5de6c534-0579-4948-a6d1-68ab59d2715e",
   "metadata": {},
   "source": [
    "### Question 1\n",
    "How many times does AGGT or its reverse complement TCCA occur in the lambda virus genome?  \n",
    "E.g. if AGGT occurs 10 times and TCCA occurs 12 times, you should report 22"
   ]
  },
  {
   "cell_type": "code",
   "execution_count": 7,
   "id": "dd87aa42-4326-44c9-a899-b37fb19cb61d",
   "metadata": {},
   "outputs": [
    {
     "name": "stdout",
     "output_type": "stream",
     "text": [
      "AGGT occurs 306 times!\n"
     ]
    }
   ],
   "source": [
    "pattern = \"AGGT\"\n",
    "matches = naive(pattern, genome)\n",
    "matches.extend(naive(reverseComplement(pattern), genome))\n",
    "numMatched = len(matches)\n",
    "print(pattern + ' occurs %d times!' % (numMatched))"
   ]
  },
  {
   "cell_type": "markdown",
   "id": "4650db87-ff23-4612-aea2-d49ae826ac0f",
   "metadata": {},
   "source": [
    "### Question 2\n",
    "How many times does TTAA or its reverse complement occur in the lambda virus genome?  \n",
    "Hint: TTAA and its reverse complement are equal, so remember not to double count"
   ]
  },
  {
   "cell_type": "code",
   "execution_count": 16,
   "id": "e4faf53b-c02a-41ef-a651-364c760ba353",
   "metadata": {},
   "outputs": [
    {
     "name": "stdout",
     "output_type": "stream",
     "text": [
      "TTAA occurs 195 times!\n"
     ]
    }
   ],
   "source": [
    "#function to look for matches to a pattern and the complementary strand in genome\n",
    "def strandAwareNaive(p, t): \n",
    "    matches = naive(p, t)\n",
    "    reverse_pattern = reverseComplement(p)\n",
    "    if p != reverse_pattern:\n",
    "        matches.extend(naive(reverse_pattern, t))\n",
    "    return matches\n",
    "\n",
    "pattern = \"TTAA\"\n",
    "matches = strandAwareNaive(pattern, genome)\n",
    "numMatched = len(matches)\n",
    "print(pattern + ' occurs %d times!' % (numMatched))"
   ]
  },
  {
   "cell_type": "markdown",
   "id": "3d06e479-a149-4a00-8593-f2982942746d",
   "metadata": {},
   "source": [
    "### Question 3\n",
    "What is the offset of the leftmost occurrence of ACTAAGT or its reverse complement in the Lambda virus genome?  \n",
    "E.g. if the leftmost occurrence of ACTAAGT is at offset 40 (0-based) and the leftmost occurrence of its reverse complement is at offset 29, then report 29."
   ]
  },
  {
   "cell_type": "code",
   "execution_count": 14,
   "id": "2bf9cb97-3fb3-4aca-a6a2-a959d5f64148",
   "metadata": {},
   "outputs": [
    {
     "name": "stdout",
     "output_type": "stream",
     "text": [
      "The leftmost occurrence of ACTAAGT is at offset 26028!\n"
     ]
    }
   ],
   "source": [
    "pattern = \"ACTAAGT\"\n",
    "matches = strandAwareNaive(pattern, genome)\n",
    "leftmostOccurence = min(matches)\n",
    "print('The leftmost occurrence of ' + pattern + ' is at offset %d!' % (leftmostOccurence))"
   ]
  },
  {
   "cell_type": "markdown",
   "id": "32cc1846-cce9-4e1e-b4b6-b6348a21af0d",
   "metadata": {},
   "source": [
    "### Question 4\n",
    "What is the offset of the leftmost occurrence of AGTCGA or its reverse complement in the Lambda virus genome?"
   ]
  },
  {
   "cell_type": "code",
   "execution_count": 15,
   "id": "798d6ed5-69d8-4d5c-8849-3c41860b730b",
   "metadata": {},
   "outputs": [
    {
     "name": "stdout",
     "output_type": "stream",
     "text": [
      "The leftmost occurrence of AGTCGA is at offset 450!\n"
     ]
    }
   ],
   "source": [
    "pattern = \"AGTCGA\"\n",
    "matches = strandAwareNaive(pattern, genome)\n",
    "leftmostOccurence = min(matches)\n",
    "print('The leftmost occurrence of ' + pattern + ' is at offset %d!' % (leftmostOccurence))"
   ]
  },
  {
   "cell_type": "markdown",
   "id": "1576989f-e5c4-4fee-b9e6-c796a205842c",
   "metadata": {},
   "source": [
    "<h3 style=\"border-bottom: 1px solid\">Function naive_2mm()</h3>\n",
    "\n",
    "> We would like to find approximate matches for P in T. That is, we want to find occurrences with one or more differences.\n",
    "For Questions 5 and 6, make a new version of the naive function called naive_2mm that allows up to 2 mismatches per occurrence. Unlike for the previous questions, do not consider the reverse complement here.  We're looking for approximate matches for P itself, not its reverse complement.\n",
    "For example, ACTTTA occurs twice in ACTTACTTGATAAAGT, once at offset 0 with 2 mismatches, and once at offset 4 with 1 mismatch. So naive_2mm(’ACTTTA’, ’ACTTACTTGATAAAGT’) should return the list [0, 4]\n"
   ]
  },
  {
   "cell_type": "code",
   "execution_count": 17,
   "id": "d360b30b-2454-44d1-a168-1e0a1aeada9f",
   "metadata": {},
   "outputs": [],
   "source": [
    "#function to find approximate matches : allows 2 mismatches\n",
    "def naive_2mm(p, t):\n",
    "    occurrences = []\n",
    "    for i in range(len(t) - len(p) + 1):\n",
    "        match = True\n",
    "        count_missMatch = 0\n",
    "        for j in range(len(p)):\n",
    "            if t[i+j] != p[j]:\n",
    "                count_missMatch += 1\n",
    "            if count_missMatch > 2:\n",
    "                match = False\n",
    "                break\n",
    "        if match:\n",
    "            occurrences.append(i)\n",
    "    return occurrences"
   ]
  },
  {
   "cell_type": "markdown",
   "id": "48145ffd-ea54-4763-87f5-288c0844d76d",
   "metadata": {},
   "source": [
    "<div class=\"alert alert-block alert-info\"> Function tests</div>"
   ]
  },
  {
   "cell_type": "code",
   "execution_count": 29,
   "id": "1a76d9f6-0464-4192-b32e-bca793ca4cc8",
   "metadata": {},
   "outputs": [
    {
     "name": "stdout",
     "output_type": "stream",
     "text": [
      "[0, 3]\n",
      "[]\n"
     ]
    }
   ],
   "source": [
    "#test function \n",
    "print(naive_2mm(\"atca\", \"atgaccgtt\"))\n",
    "print(naive_2mm(\"atca\", \"acgtt\"))"
   ]
  },
  {
   "cell_type": "markdown",
   "id": "69cab619-bc8c-4be8-b4d4-7a5172295b48",
   "metadata": {},
   "source": [
    "<div class=\"alert alert-block alert-success\">Test 1 from module</div>"
   ]
  },
  {
   "cell_type": "code",
   "execution_count": 30,
   "id": "d51b927b-ca87-4592-8fa7-c1cc75227056",
   "metadata": {},
   "outputs": [
    {
     "name": "stdout",
     "output_type": "stream",
     "text": [
      "[10, 24, 38]\n"
     ]
    }
   ],
   "source": [
    "p = 'CTGT'\n",
    "ten_as = 'AAAAAAAAAA'\n",
    "t = ten_as + 'CTGT' + ten_as + 'CTTT' + ten_as + 'CGGG' + ten_as\n",
    "occurrences = naive_2mm(p, t)\n",
    "print(occurrences)"
   ]
  },
  {
   "cell_type": "markdown",
   "id": "7bfe563c-d8e1-486e-8c0e-6945d1980ac1",
   "metadata": {},
   "source": [
    "<div class=\"alert alert-block alert-success\">Test 2 from module</div>"
   ]
  },
  {
   "cell_type": "code",
   "execution_count": 31,
   "id": "913ac649-89aa-41d3-bc27-97dabee5695d",
   "metadata": {},
   "outputs": [
    {
     "name": "stdout",
     "output_type": "stream",
     "text": [
      "offset of leftmost occurrence: 10\n"
     ]
    }
   ],
   "source": [
    "phix_genome = readGenome('phix.fa')\n",
    "occurrences = naive_2mm('GATTACA', phix_genome)\n",
    "print('offset of leftmost occurrence: %d' % min(occurrences))"
   ]
  },
  {
   "cell_type": "markdown",
   "id": "b0db7d87-7be2-40db-b933-e8023e42482f",
   "metadata": {},
   "source": [
    "### Question 5\n",
    "How many times does TTCAAGCC occur in the Lambda virus genome when allowing up to 2 mismatches?"
   ]
  },
  {
   "cell_type": "code",
   "execution_count": 28,
   "id": "d36fab50-ab32-48f4-811d-828f5d057c7c",
   "metadata": {},
   "outputs": [
    {
     "name": "stdout",
     "output_type": "stream",
     "text": [
      "TTCAAGCC occurs 191 times!\n"
     ]
    }
   ],
   "source": [
    "pattern = \"TTCAAGCC\"\n",
    "matches = naive_2mm(pattern, genome)\n",
    "numMatched = len(matches)\n",
    "print(pattern + ' occurs %d times!' % (numMatched))"
   ]
  },
  {
   "cell_type": "markdown",
   "id": "ddc04406-659b-434f-a248-bfab416e1d52",
   "metadata": {},
   "source": [
    "### Question 6\n",
    "What is the offset of the leftmost occurrence of AGGAGGTT in the Lambda virus genome when allowing up to 2 mismatches?"
   ]
  },
  {
   "cell_type": "code",
   "execution_count": 32,
   "id": "c37be35e-ed03-4295-b873-7795a0113f69",
   "metadata": {},
   "outputs": [
    {
     "name": "stdout",
     "output_type": "stream",
     "text": [
      "Offset of leftmost occurrence of AGGAGGTT: 214\n"
     ]
    }
   ],
   "source": [
    "pattern = \"AGGAGGTT\"\n",
    "occurrences = naive_2mm('GATTACA', genome)\n",
    "print('Offset of leftmost occurrence of '+ pattern +': %d' % min(occurrences))"
   ]
  },
  {
   "cell_type": "markdown",
   "id": "514699cd-8866-44f8-9913-49a9b258f034",
   "metadata": {},
   "source": [
    "<h2>Sequence quality check</h2>\n",
    "<hr>"
   ]
  },
  {
   "cell_type": "markdown",
   "id": "a2269634-1ad4-4f1c-a0cc-7343df407f95",
   "metadata": {},
   "source": [
    "The reads below are taken from this study:\n",
    "\n",
    "> **Ajay, S. S., Parker, S. C., Abaan, H. O., Fajardo, K. V. F., & Margulies, E. H.** (2011). Accurate and comprehensive sequencing of personal genomes. Genome research, 21(9), 1498-1505. "
   ]
  },
  {
   "cell_type": "markdown",
   "id": "dfbb2883-68c5-468c-a247-b836a20fecb4",
   "metadata": {},
   "source": [
    "### Question 7\n",
    "This dataset has something wrong with it. One of the sequencing cycles is poor quality.\n",
    "Report which sequencing cycle has the problem.  Remember that a sequencing cycle corresponds to a particular offset in all the reads. For example, if the leftmost read position seems to have a problem consistently across reads, report 0. If the fourth position from the left has the problem, report 3. Do whatever analysis you think is needed to identify the bad cycle. \n",
    "Note that the file has many reads in it and you should examine all of them together when answering this question.  "
   ]
  },
  {
   "cell_type": "code",
   "execution_count": 35,
   "id": "121eb2d5-a49b-4b64-a2e3-29767fb0487d",
   "metadata": {},
   "outputs": [
    {
     "name": "stdout",
     "output_type": "stream",
     "text": [
      "--2022-11-30 21:17:15--  https://d28rh4a8wq0iu5.cloudfront.net/ads1/data/ERR037900_1.first1000.fastq\n",
      "Loaded CA certificate '/etc/ssl/certs/ca-certificates.crt'\n",
      "Resolving d28rh4a8wq0iu5.cloudfront.net (d28rh4a8wq0iu5.cloudfront.net)... 65.9.58.198, 65.9.58.64, 65.9.58.79, ...\n",
      "Connecting to d28rh4a8wq0iu5.cloudfront.net (d28rh4a8wq0iu5.cloudfront.net)|65.9.58.198|:443... connected.\n",
      "HTTP request sent, awaiting response... 200 OK\n",
      "Length: 241626 (236K) [application/octet-stream]\n",
      "Saving to: ‘ERR037900_1.first1000.fastq’\n",
      "\n",
      "ERR037900_1.first10  19%[==>                 ]  47.11K  --.-KB/s    in 3m 36s  \n",
      "\n",
      "2022-11-30 21:21:24 (223 B/s) - Read error at byte 48240/241626 (Error in the pull function.). Retrying.\n",
      "\n",
      "--2022-11-30 21:21:25--  (try: 2)  https://d28rh4a8wq0iu5.cloudfront.net/ads1/data/ERR037900_1.first1000.fastq\n",
      "Connecting to d28rh4a8wq0iu5.cloudfront.net (d28rh4a8wq0iu5.cloudfront.net)|65.9.58.198|:443... connected.\n",
      "HTTP request sent, awaiting response... 206 Partial Content\n",
      "Length: 241626 (236K), 193386 (189K) remaining [application/octet-stream]\n",
      "Saving to: ‘ERR037900_1.first1000.fastq’\n",
      "\n",
      "ERR037900_1.first10  48%[+++=====>           ] 114.98K  --.-KB/s    in 4m 11s  \n",
      "\n",
      "2022-11-30 21:25:48 (277 B/s) - Read error at byte 117744/241626 (Error in the pull function.). Retrying.\n",
      "\n",
      "--2022-11-30 21:25:50--  (try: 3)  https://d28rh4a8wq0iu5.cloudfront.net/ads1/data/ERR037900_1.first1000.fastq\n",
      "Connecting to d28rh4a8wq0iu5.cloudfront.net (d28rh4a8wq0iu5.cloudfront.net)|65.9.58.198|:443... connected.\n",
      "HTTP request sent, awaiting response... 206 Partial Content\n",
      "Length: 241626 (236K), 123882 (121K) remaining [application/octet-stream]\n",
      "Saving to: ‘ERR037900_1.first1000.fastq’\n",
      "\n",
      "ERR037900_1.first10  82%[+++++++++======>    ] 194.98K  --.-KB/s    in 4m 13s  \n",
      "\n",
      "2022-11-30 21:30:11 (324 B/s) - Read error at byte 199664/241626 (Error in the pull function.). Retrying.\n",
      "\n",
      "--2022-11-30 21:30:14--  (try: 4)  https://d28rh4a8wq0iu5.cloudfront.net/ads1/data/ERR037900_1.first1000.fastq\n",
      "Connecting to d28rh4a8wq0iu5.cloudfront.net (d28rh4a8wq0iu5.cloudfront.net)|65.9.58.198|:443... connected.\n",
      "HTTP request sent, awaiting response... 206 Partial Content\n",
      "Length: 241626 (236K), 41962 (41K) remaining [application/octet-stream]\n",
      "Saving to: ‘ERR037900_1.first1000.fastq’\n",
      "\n",
      "ERR037900_1.first10 100%[++++++++++++++++===>] 235.96K  9.50KB/s    in 4.3s    \n",
      "\n",
      "2022-11-30 21:30:28 (9.50 KB/s) - ‘ERR037900_1.first1000.fastq’ saved [241626/241626]\n",
      "\n"
     ]
    }
   ],
   "source": [
    "!wget https://d28rh4a8wq0iu5.cloudfront.net/ads1/data/ERR037900_1.first1000.fastq"
   ]
  },
  {
   "cell_type": "code",
   "execution_count": 40,
   "id": "c46f0cb5-5911-4cb7-9ef8-b9048d86a0ca",
   "metadata": {},
   "outputs": [],
   "source": [
    "## function to read fastq file (imported from course module)\n",
    "def readFastq(filename):\n",
    "    sequences = []\n",
    "    qualities = []\n",
    "    with open(filename) as fh:\n",
    "        while True:\n",
    "            fh.readline() # skip name line\n",
    "            seq = fh.readline().rstrip() # read base sequence\n",
    "            fh.readline() # skip placeholder line\n",
    "            qual = fh.readline().rstrip() #base quality line\n",
    "            if len(seq) == 0:\n",
    "                break\n",
    "            sequences.append(seq)\n",
    "            qualities.append(qual)\n",
    "    return sequences, qualities\n"
   ]
  },
  {
   "cell_type": "code",
   "execution_count": 48,
   "id": "4a213d8e-4b8a-4bf1-9f00-eb8e549aec20",
   "metadata": {},
   "outputs": [
    {
     "name": "stdout",
     "output_type": "stream",
     "text": [
      "HHHHHHHHHHHHHHHHHHHHHHHHHHHHHHHHHHHHHHHHHHHGFHHHFHFFHHHHHGHHFHEH@4#55554455HGFBF<@C>7EEF@FBEDDD<=C<E\n"
     ]
    }
   ],
   "source": [
    "##read fastq data\n",
    "_, quals = readFastq('ERR037900_1.first1000.fastq')\n",
    "len(quals)\n",
    "print(quals[0][:100])"
   ]
  },
  {
   "cell_type": "code",
   "execution_count": 49,
   "id": "2eea8fce-9597-4801-850d-442ff2b245a6",
   "metadata": {},
   "outputs": [],
   "source": [
    "#function to convert quality characters into integers (imported from course module)\n",
    "def phred33ToQ(qual):\n",
    "    return ord(qual) - 33"
   ]
  },
  {
   "cell_type": "code",
   "execution_count": 50,
   "id": "4a1ecb6a-71cb-46e7-a38c-b02bcf567076",
   "metadata": {},
   "outputs": [],
   "source": [
    "def getPhread(qualityStrings):\n",
    "    #reads in each line\n",
    "    readLength = [len(read) for read in quals]\n",
    "    #max number of nts in one line\n",
    "    max_bases = max(readLength)\n",
    "    \n",
    "    result = [0] * max_bases\n",
    "    for read in qualityStrings:\n",
    "        for i, phred in enumerate(read):\n",
    "            #transforme characters into read quality values\n",
    "            q = phred33ToQ(phred)\n",
    "            #add read quality per nt position\n",
    "            result[i] += q\n",
    "    \n",
    "    #get average quality read for each position accross clusters\n",
    "    numb_clusters = len(qualityStrings)\n",
    "    for i,q in enumerate(result):\n",
    "        result[i] /= numb_clusters\n",
    "        \n",
    "    return result"
   ]
  },
  {
   "cell_type": "code",
   "execution_count": 53,
   "id": "9819333f-5177-4889-92e7-1f4f67ca9e9a",
   "metadata": {},
   "outputs": [
    {
     "name": "stdout",
     "output_type": "stream",
     "text": [
      "[38.435, 38.46, 38.4, 38.428, 38.417, 38.382, 38.362, 38.364, 38.325, 38.343, 38.194, 38.154, 38.089, 38.152, 38.153, 38.099, 38.055, 38.041, 38.067, 38.15, 38.087, 37.989, 38.009, 37.909, 38.028, 37.576, 37.514, 37.503, 37.578, 37.552, 37.629, 37.555, 37.548, 37.433, 37.402, 37.343, 37.198, 37.126, 37.158, 36.904, 36.742, 36.677, 36.645, 36.493, 36.509, 36.375, 36.205, 35.974, 35.847, 35.673, 34.832, 34.739, 34.399, 34.402, 34.025, 33.025, 32.882, 32.741, 32.573, 32.224, 30.805, 30.666, 30.343, 30.131, 29.463, 17.891, 4.526, 17.881, 17.865, 17.852, 17.466, 17.131, 17.134, 17.098, 16.852, 23.745, 23.958, 23.221, 22.902, 22.366, 20.904, 20.584, 20.383, 19.767, 19.095, 18.061, 17.757, 17.152, 16.972, 16.286, 14.811, 14.679, 14.31, 14.152, 13.734, 12.538, 12.278, 12.179, 11.676, 11.561]\n"
     ]
    }
   ],
   "source": [
    "phredList = getPhread(quals)\n",
    "print(phredList)"
   ]
  },
  {
   "cell_type": "code",
   "execution_count": 67,
   "id": "9098411d-4811-4d2b-bb3b-4ec342c88efc",
   "metadata": {},
   "outputs": [
    {
     "data": {
      "image/png": "[encoded data removed]",
      "text/plain": [
       "<Figure size 640x480 with 1 Axes>"
      ]
     },
     "metadata": {},
     "output_type": "display_data"
    }
   ],
   "source": [
    "#bar plot result\n",
    "%matplotlib inline\n",
    "import matplotlib.pyplot as plt\n",
    "plt.plot(range(len(phredList)), phredList)\n",
    "plt.title(\"Average sequence quality for each nucleotide\")\n",
    "plt.ylabel(\"Average sequence quality\")\n",
    "plt.xlabel(\"Nucleotide position in a read\")\n",
    "plt.show()"
   ]
  },
  {
   "cell_type": "code",
   "execution_count": 63,
   "id": "7729e33e-3553-4dcc-9c10-514c3efeee06",
   "metadata": {},
   "outputs": [
    {
     "name": "stdout",
     "output_type": "stream",
     "text": [
      "The sequencing cycle with a problem is : 66\n"
     ]
    }
   ],
   "source": [
    "lowest_result = min(phredList)\n",
    "lowest_result_occurence = [i for i, x in enumerate(phredList) if x==lowest_result]\n",
    "print('The sequencing cycle with a problem is : %d' % min(lowest_result_occurence))"
   ]
  }
 ],
 "metadata": {
  "kernelspec": {
   "display_name": "Python 3 (ipykernel)",
   "language": "python",
   "name": "python3"
  },
  "language_info": {
   "codemirror_mode": {
    "name": "ipython",
    "version": 3
   },
   "file_extension": ".py",
   "mimetype": "text/x-python",
   "name": "python",
   "nbconvert_exporter": "python",
   "pygments_lexer": "ipython3",
   "version": "3.10.5"
  }
 },
 "nbformat": 4,
 "nbformat_minor": 5
}
