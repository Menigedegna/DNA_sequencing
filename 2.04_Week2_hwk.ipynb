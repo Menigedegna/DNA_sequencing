{
 "cells": [
  {
   "cell_type": "markdown",
   "id": "9f330e99-b3d0-41e2-ae54-2f8d60c5d95c",
   "metadata": {},
   "source": [
    "# Read alignement methods"
   ]
  },
  {
   "cell_type": "code",
   "execution_count": 106,
   "id": "65ff923a-51c7-46f4-8b8e-8340b072af13",
   "metadata": {},
   "outputs": [
    {
     "name": "stdout",
     "output_type": "stream",
     "text": [
      "--2022-12-09 19:48:13--  http://d28rh4a8wq0iu5.cloudfront.net/ads1/data/chr1.GRCh38.excerpt.fasta\n",
      "Resolving d28rh4a8wq0iu5.cloudfront.net (d28rh4a8wq0iu5.cloudfront.net)... 143.204.222.132, 143.204.222.99, 143.204.222.215, ...\n",
      "Connecting to d28rh4a8wq0iu5.cloudfront.net (d28rh4a8wq0iu5.cloudfront.net)|143.204.222.132|:80... connected.\n",
      "HTTP request sent, awaiting response... 200 OK\n",
      "Length: 810105 (791K) [application/octet-stream]\n",
      "Saving to: ‘chr1.GRCh38.excerpt.fasta.1’\n",
      "\n",
      "chr1.GRCh38.excerpt 100%[===================>] 791.12K  77.3KB/s    in 6.7s    \n",
      "\n",
      "2022-12-09 19:48:24 (119 KB/s) - ‘chr1.GRCh38.excerpt.fasta.1’ saved [810105/810105]\n",
      "\n"
     ]
    }
   ],
   "source": [
    "# Download FASTA file excerpt of human chromosome 1\n",
    "!wget http://d28rh4a8wq0iu5.cloudfront.net/ads1/data/chr1.GRCh38.excerpt.fasta"
   ]
  },
  {
   "cell_type": "code",
   "execution_count": 107,
   "id": "16354c7b-49a9-41c8-91da-1f9505524bc4",
   "metadata": {},
   "outputs": [
    {
     "data": {
      "text/plain": [
       "'TTGAATGCTGAAATCAGCAGGTAATATATGATAATAGAGAAAGCTATCCCGAAGGTGCATAGGTCAACAATACTTGAGCCTAACTCAGTAGATCCTAAAA'"
      ]
     },
     "execution_count": 107,
     "metadata": {},
     "output_type": "execute_result"
    }
   ],
   "source": [
    "# Function provided by course\n",
    "def readGenome(filename):\n",
    "    genome = ''\n",
    "    with open(filename, 'r') as f:\n",
    "        for line in f:\n",
    "            # ignore header line with genome information\n",
    "            if not line[0] == '>':\n",
    "                genome += line.rstrip()\n",
    "    return genome\n",
    "genome = readGenome('chr1.GRCh38.excerpt.fasta')\n",
    "genome[:100]"
   ]
  },
  {
   "cell_type": "code",
   "execution_count": 108,
   "id": "214f9b59-def4-4d8a-8ed0-527d4be7e9f2",
   "metadata": {},
   "outputs": [
    {
     "data": {
      "text/plain": [
       "800000"
      ]
     },
     "execution_count": 108,
     "metadata": {},
     "output_type": "execute_result"
    }
   ],
   "source": [
    "len(genome)"
   ]
  },
  {
   "cell_type": "markdown",
   "id": "5cac494b-938c-4600-aa85-c3b158e70f18",
   "metadata": {},
   "source": [
    "<h3 style=\"border-bottom: 1px solid\">Naive VS Boyer-Moore method</h3>\n",
    "**Objective** : Build third version of naive exact matching and Boyer-Moore algorithms that additionally count and return \n",
    " 1. the number of character comparisons performed and \n",
    " 2. the number of alignments tried. Roughly speaking, these measure how much work the two different algorithms are doing\n",
    " 3. list of offsets of occurences"
   ]
  },
  {
   "cell_type": "code",
   "execution_count": 109,
   "id": "e894479b-e97e-4d31-af7b-f7c421ed740c",
   "metadata": {},
   "outputs": [],
   "source": [
    "\"\"\" Do naive exact matching \"\"\"\n",
    "def naive_with_counts(p, t):\n",
    "    occurrences = []\n",
    "    numbCharComp = 0\n",
    "    numbAlignments = 0\n",
    "    for i in range(len(t) - len(p) + 1):\n",
    "        match = True\n",
    "        numbAlignments += 1\n",
    "        for j in range(len(p)):\n",
    "            numbCharComp += 1\n",
    "            if t[i+j] != p[j]:\n",
    "                match = False\n",
    "                break\n",
    "        if match:\n",
    "            occurrences.append(i)\n",
    "    return occurrences, numbAlignments, numbCharComp"
   ]
  },
  {
   "cell_type": "code",
   "execution_count": 110,
   "id": "837895e8-8c6e-46bd-b786-a6d22869b923",
   "metadata": {},
   "outputs": [],
   "source": [
    "#function to get complementary strand of sequence (imported from course module)\n",
    "def reverseComplement(s):\n",
    "    complement = {'A': 'T', 'C': 'G', 'G': 'C', 'T': 'A', 'N': 'N'}\n",
    "    t = ''\n",
    "    for base in s:\n",
    "        t = complement[base] + t\n",
    "    return t"
   ]
  },
  {
   "cell_type": "markdown",
   "id": "b5aaea88-b3b2-455a-918d-be818c98c494",
   "metadata": {},
   "source": [
    "<div class=\"alert alert-block alert-success\" style=\"text-align:center\">Naive matching Test 1</div>"
   ]
  },
  {
   "cell_type": "code",
   "execution_count": 111,
   "id": "526a7dc6-f565-4d50-bb5d-63ed38f834a5",
   "metadata": {},
   "outputs": [
    {
     "name": "stdout",
     "output_type": "stream",
     "text": [
      "[40] 41 46\n"
     ]
    }
   ],
   "source": [
    "p = 'word'\n",
    "t = 'there would have been a time for such a word'\n",
    "occurrences, num_alignments, num_character_comparisons = naive_with_counts(p, t)\n",
    "print(occurrences, num_alignments, num_character_comparisons)"
   ]
  },
  {
   "cell_type": "markdown",
   "id": "05330172-de74-4d3c-bc19-4a1143b79787",
   "metadata": {},
   "source": [
    "<div class=\"alert alert-block alert-success\" style=\"text-align:center\">Naive matching Test 2</div>"
   ]
  },
  {
   "cell_type": "code",
   "execution_count": 112,
   "id": "639ed8b8-9c3f-4524-bc93-c8145a96fff9",
   "metadata": {},
   "outputs": [
    {
     "name": "stdout",
     "output_type": "stream",
     "text": [
      "[0, 19] 20 35\n"
     ]
    }
   ],
   "source": [
    "p = 'needle'\n",
    "t = 'needle need noodle needle'\n",
    "occurrences, num_alignments, num_character_comparisons = naive_with_counts(p, t)\n",
    "print(occurrences, num_alignments, num_character_comparisons)\n"
   ]
  },
  {
   "cell_type": "code",
   "execution_count": 113,
   "id": "9147ecda-36b4-4e95-bbe9-c6193b34029c",
   "metadata": {},
   "outputs": [],
   "source": [
    "from bm_preproc import BoyerMoore"
   ]
  },
  {
   "cell_type": "code",
   "execution_count": 114,
   "id": "484837ec-4e13-434c-9e12-7de6acbe1353",
   "metadata": {},
   "outputs": [],
   "source": [
    "\"\"\" Do Boyer-Moore matching \"\"\"\n",
    "def boyer_moore_with_counts(p, p_bm, t):\n",
    "    i = 0\n",
    "    occurrences = []\n",
    "    numbCharComp = 0\n",
    "    numbAlignments = 0\n",
    "    while i < len(t) - len(p) + 1:\n",
    "        shift = 1\n",
    "        mismatched = False\n",
    "        numbAlignments += 1\n",
    "        for j in range(len(p)-1, -1, -1):\n",
    "            numbCharComp += 1\n",
    "            if p[j] != t[i+j]:\n",
    "                skip_bc = p_bm.bad_character_rule(j, t[i+j])\n",
    "                skip_gs = p_bm.good_suffix_rule(j)\n",
    "                shift = max(shift, skip_bc, skip_gs)\n",
    "                mismatched = True\n",
    "                break\n",
    "        if not mismatched:\n",
    "            occurrences.append(i)\n",
    "            skip_gs = p_bm.match_skip()\n",
    "            shift = max(shift, skip_gs)\n",
    "        i += shift\n",
    "    return occurrences,numbAlignments,numbCharComp "
   ]
  },
  {
   "cell_type": "markdown",
   "id": "81beebe0-092b-4584-ab17-c62c644aa599",
   "metadata": {},
   "source": [
    "<div class=\"alert alert-block alert-success\" style=\"text-align:center\">Boyer-Moore matching Test 1</div>"
   ]
  },
  {
   "cell_type": "code",
   "execution_count": 115,
   "id": "06bf7af8-24a9-44b4-86f6-7d44d311fc8c",
   "metadata": {},
   "outputs": [
    {
     "name": "stdout",
     "output_type": "stream",
     "text": [
      "[40] 12 15\n"
     ]
    }
   ],
   "source": [
    "p = 'word'\n",
    "t = 'there would have been a time for such a word'\n",
    "lowercase_alphabet = 'abcdefghijklmnopqrstuvwxyz '\n",
    "p_bm = BoyerMoore(p, lowercase_alphabet)\n",
    "occurrences, num_alignments, num_character_comparisons = boyer_moore_with_counts(p, p_bm, t)\n",
    "print(occurrences, num_alignments, num_character_comparisons)"
   ]
  },
  {
   "cell_type": "markdown",
   "id": "7304fef1-f2cb-459e-8f79-10f1922d1c7d",
   "metadata": {},
   "source": [
    "<div class=\"alert alert-block alert-success\" style=\"text-align:center\">Boyer-Moore matching Test 2</div>"
   ]
  },
  {
   "cell_type": "code",
   "execution_count": 116,
   "id": "6cebe94c-766d-44a9-b029-4a294411364d",
   "metadata": {},
   "outputs": [
    {
     "name": "stdout",
     "output_type": "stream",
     "text": [
      "[0, 19] 5 18\n"
     ]
    }
   ],
   "source": [
    "p = 'needle'\n",
    "t = 'needle need noodle needle'\n",
    "p_bm = BoyerMoore(p, lowercase_alphabet)\n",
    "occurrences, num_alignments, num_character_comparisons = boyer_moore_with_counts(p, p_bm, t)\n",
    "print(occurrences, num_alignments, num_character_comparisons)"
   ]
  },
  {
   "cell_type": "markdown",
   "id": "53eed8f8-57e9-4765-b598-de8d4fe70de5",
   "metadata": {},
   "source": [
    "### Question 1\n",
    "How many alignments does the naive exact matching algorithm try when matching the string GGCGCGGTGGCTCACGCCTGTAATCCCAGCACTTTGGGAGGCCGAGG (derived from human Alu sequences) to the excerpt of human chromosome 1?  (Don't consider reverse complements.)"
   ]
  },
  {
   "cell_type": "code",
   "execution_count": 117,
   "id": "56b0d7a4-565f-4a2e-bbe3-e03a5c43d1dd",
   "metadata": {},
   "outputs": [
    {
     "name": "stdout",
     "output_type": "stream",
     "text": [
      "The naive exact matching algorithm tries 799954 alignments\n"
     ]
    }
   ],
   "source": [
    "p = \"GGCGCGGTGGCTCACGCCTGTAATCCCAGCACTTTGGGAGGCCGAGG\"\n",
    "_, num_alignments, num_character_comparisons = naive_with_counts(p, genome)\n",
    "print('The naive exact matching algorithm tries %d alignments' % (num_alignments))"
   ]
  },
  {
   "cell_type": "markdown",
   "id": "f590bb3c-b7cb-45ee-91c7-d2d9c85a3b7d",
   "metadata": {},
   "source": [
    "### Question 2\n",
    "How many character comparisons does the naive exact matching algorithm try when matching the string GGCGCGGTGGCTCACGCCTGTAATCCCAGCACTTTGGGAGGCCGAGG (derived from human Alu sequences) to the excerpt of human chromosome 1?  (Don't consider reverse complements.)"
   ]
  },
  {
   "cell_type": "code",
   "execution_count": 118,
   "id": "8a9a0334-503b-43e4-8149-143224fa09f9",
   "metadata": {},
   "outputs": [
    {
     "name": "stdout",
     "output_type": "stream",
     "text": [
      "The naive exact matching algorithm tries 984143 character comparisons\n"
     ]
    }
   ],
   "source": [
    "print('The naive exact matching algorithm tries %d character comparisons' % (num_character_comparisons))"
   ]
  },
  {
   "cell_type": "markdown",
   "id": "1982f6fa-3b13-47c7-a102-c97df18c59bb",
   "metadata": {},
   "source": [
    "### Question 3\n",
    "How many alignments does Boyer-Moore try when matching the string GGCGCGGTGGCTCACGCCTGTAATCCCAGCACTTTGGGAGGCCGAGG (derived from human Alu sequences) to the excerpt of human chromosome 1?  (Don't consider reverse complements.)"
   ]
  },
  {
   "cell_type": "code",
   "execution_count": 119,
   "id": "66a82c16-5446-4cdc-b9fb-f34d77d26784",
   "metadata": {},
   "outputs": [
    {
     "name": "stdout",
     "output_type": "stream",
     "text": [
      "The Boyer-Moore algorithm tries 127974 alignments\n"
     ]
    }
   ],
   "source": [
    "p_bm = BoyerMoore(p, alphabet='ACGT')\n",
    "_, num_alignments, num_character_comparisons = boyer_moore_with_counts(p, p_bm, genome)\n",
    "print('The Boyer-Moore algorithm tries %d alignments' % (num_alignments))"
   ]
  },
  {
   "cell_type": "code",
   "execution_count": 120,
   "id": "9bda39f4-aa7e-49ff-8186-fef663740fb4",
   "metadata": {},
   "outputs": [
    {
     "name": "stdout",
     "output_type": "stream",
     "text": [
      "The Boyer-Moore algorithm tries 165191 character comparisons\n"
     ]
    }
   ],
   "source": [
    "print('The Boyer-Moore algorithm tries %d character comparisons' % (num_character_comparisons))"
   ]
  },
  {
   "cell_type": "markdown",
   "id": "18047bfe-5def-4db6-a7db-815c4be4dc00",
   "metadata": {},
   "source": [
    "<h3 style=\"border-bottom: 1px solid\">k-mer indexing method</h3>\n",
    "<ol>\n",
    "    <li>Build indexing table for genome with k-mers</li>\n",
    "    <li>Create P partitions with pigeonhole principle</li>\n",
    "    <li>Search for exact match for one partition</li>\n",
    "    <li>Verify match</li>\n",
    "</ol>"
   ]
  },
  {
   "cell_type": "code",
   "execution_count": 121,
   "id": "84548217-4cb8-44c7-a7d5-f1ae864eddaa",
   "metadata": {},
   "outputs": [],
   "source": [
    "import bisect"
   ]
  },
  {
   "cell_type": "code",
   "execution_count": 122,
   "id": "8b13894c-0cb2-40d1-a118-6209c2f0002d",
   "metadata": {},
   "outputs": [],
   "source": [
    "class Index(object):\n",
    "    def __init__(self, t, k):\n",
    "        ''' Create index from all substrings of size 'length' '''\n",
    "        self.k = k  # k-mer length (k)\n",
    "        self.index = []\n",
    "        for i in range(len(t) - k + 1):  # for each k-mer\n",
    "            self.index.append((t[i:i+k], i))  # add (k-mer, offset) pair\n",
    "        self.index.sort()  # alphabetize by k-mer\n",
    "    \n",
    "    def query(self, p):\n",
    "        ''' Return index hits for first k-mer of P '''\n",
    "        kmer = p[:self.k]  # query with first k-mer\n",
    "        i = bisect.bisect_left(self.index, (kmer, -1))  # binary search\n",
    "        hits = []\n",
    "        while i < len(self.index):  # collect matching index entries\n",
    "            if self.index[i][0] != kmer:\n",
    "                break\n",
    "            hits.append(self.index[i][1])\n",
    "            i += 1\n",
    "        return hits"
   ]
  },
  {
   "cell_type": "markdown",
   "id": "0ad6bac3-99ef-40e2-b3e8-26201ff1de45",
   "metadata": {},
   "source": [
    "**Problem** : Build function that, given a length-24 pattern P and given an Index object built on 8-mers, finds all approximate occurrences of P within T with up to 2 mismatches. Insertions and deletions are not allowed. Don't consider any reverse complements.\n"
   ]
  },
  {
   "cell_type": "code",
   "execution_count": 123,
   "id": "6970686f-8b5d-4c18-9f28-19082fe16e04",
   "metadata": {},
   "outputs": [],
   "source": [
    "''' function: divide a string into substrings of length k '''\n",
    "def splitArray(text, k):\n",
    "    i = 0\n",
    "    result = []\n",
    "    offsets = []\n",
    "    while i < len(text):\n",
    "        offsets.append(i)\n",
    "        result.append(text[i:min(i+k,len(text))])\n",
    "        i += k\n",
    "    return result,offsets "
   ]
  },
  {
   "cell_type": "code",
   "execution_count": 124,
   "id": "c01a52cd-351f-48e7-b000-b702dedb01ad",
   "metadata": {},
   "outputs": [
    {
     "name": "stdout",
     "output_type": "stream",
     "text": [
      "['AAAA', 'AAAA', 'AACT', 'GTAA', 'AAAA', 'AAAA', 'CTTT', 'AAAA', 'AAAA', 'AACG', 'GGAA', 'AAAA', 'AAAA']\n",
      "[0, 4, 8, 12, 16, 20, 24, 28, 32, 36, 40, 44, 48]\n",
      "52\n"
     ]
    }
   ],
   "source": [
    "ten_as = 'AAAAAAAAAA'\n",
    "t = ten_as + 'CTGT' + ten_as + 'CTTT' + ten_as + 'CGGG' + ten_as\n",
    "result,offsets = splitArray(t, 4)\n",
    "print(result)\n",
    "print(offsets)\n",
    "print(len(t))"
   ]
  },
  {
   "cell_type": "code",
   "execution_count": 125,
   "id": "c256bd8f-fb26-4790-82c1-ff92d2cb2c3e",
   "metadata": {},
   "outputs": [],
   "source": [
    "''' function: use k-mer index data to find matches '''\n",
    "def k_mer_match_2mm(p, t, index):\n",
    "    k = index.k\n",
    "    occurrences = []\n",
    "    totalHits = 0\n",
    "    # split p into substrings of length k\n",
    "    partitions, partitionOffsets = splitArray(p, k)\n",
    "    \n",
    "    #for each partition of p\n",
    "    for idx, target in enumerate(partitions):\n",
    "        indexHitsForPartition = index.query(target)\n",
    "            \n",
    "        #if match found\n",
    "        if len(indexHitsForPartition)>0:\n",
    "            '''Count total index hits'''\n",
    "            totalHits += len(indexHitsForPartition)\n",
    "            \n",
    "            leftOffsetTarget = partitionOffsets[idx]\n",
    "            rightOffsetTarget = partitionOffsets[idx]+k\n",
    "            partitionAfter = len(p) - rightOffsetTarget\n",
    "            \n",
    "            #for every index hit\n",
    "            for i in indexHitsForPartition:\n",
    "                \n",
    "                # if hit is not already added\n",
    "                if occurrences.count(i-k)==0:\n",
    "                    '''Count missmatch on all of p'''\n",
    "                    mismatch = 0 \n",
    "\n",
    "                    # if match is at the end of t\n",
    "                    if (i+partitionAfter) > len(t):\n",
    "                        mismatch = (i+partitionAfter) - len(t)\n",
    "\n",
    "                    # if match is at the begining of t\n",
    "                    if leftOffsetTarget > i:\n",
    "                        mismatch += leftOffsetTarget - i\n",
    "                    \n",
    "                    '''Count mismatch on sequence prefix to match partition'''\n",
    "                    nt = 0\n",
    "                    while nt < partitionAfter and mismatch<=2:\n",
    "                        #if mismatch\n",
    "                        if t[i+k+nt] != p[rightOffsetTarget+nt]:\n",
    "                            mismatch += 1\n",
    "                        nt += 1\n",
    "                        \n",
    "                    '''Count mismatch on sequence suffix to match partition'''\n",
    "                    nt = 0\n",
    "                    while nt < leftOffsetTarget and mismatch<=2:\n",
    "                        #if mismatch\n",
    "                        if t[i-leftOffsetTarget+nt] != p[nt]:\n",
    "                            mismatch += 1\n",
    "                        nt += 1    \n",
    "\n",
    "                    #if #mismatch <= 2 on all of P append hit\n",
    "                    if mismatch<=2:\n",
    "                        occurrences.append(i-leftOffsetTarget)\n",
    "                        occurrences.sort()\n",
    "        \n",
    "    return occurrences, totalHits"
   ]
  },
  {
   "cell_type": "markdown",
   "id": "5145d68c-c41b-47c9-b802-6d81a2cf5a52",
   "metadata": {},
   "source": [
    "<div class=\"alert alert-block alert-success\" style=\"text-align:center\">k-mer with substring matching Test 1</div>"
   ]
  },
  {
   "cell_type": "code",
   "execution_count": 126,
   "id": "bfd87f3e-0223-4886-976c-32d1b69bdaa8",
   "metadata": {},
   "outputs": [
    {
     "name": "stdout",
     "output_type": "stream",
     "text": [
      "[10, 24]\n"
     ]
    }
   ],
   "source": [
    "p = 'CTGT'\n",
    "ten_as = 'AAAAAAAAAA'\n",
    "t = ten_as + 'CTGT' + ten_as + 'CTTT' + ten_as + 'CGGG' + ten_as\n",
    "index = Index(t, 2)\n",
    "occurences,_=k_mer_match_2mm(p, t, index)\n",
    "print(occurences)"
   ]
  },
  {
   "cell_type": "markdown",
   "id": "875e716b-422d-404c-8271-7b4c3922feb4",
   "metadata": {},
   "source": [
    "<div class=\"alert alert-block alert-success\" style=\"text-align:center\">k-mer with substring matching Test 2</div>"
   ]
  },
  {
   "cell_type": "code",
   "execution_count": 127,
   "id": "800fed2f-dc17-4d67-9454-2ac4c661b03a",
   "metadata": {},
   "outputs": [
    {
     "name": "stdout",
     "output_type": "stream",
     "text": [
      "--2022-12-09 19:48:28--  http://d28rh4a8wq0iu5.cloudfront.net/ads1/data/phix.fa\n",
      "Resolving d28rh4a8wq0iu5.cloudfront.net (d28rh4a8wq0iu5.cloudfront.net)... 143.204.222.132, 143.204.222.99, 143.204.222.215, ...\n",
      "Connecting to d28rh4a8wq0iu5.cloudfront.net (d28rh4a8wq0iu5.cloudfront.net)|143.204.222.132|:80... connected.\n",
      "HTTP request sent, awaiting response... 200 OK\n",
      "Length: 5528 (5.4K) [application/octet-stream]\n",
      "Saving to: ‘phix.fa.1’\n",
      "\n",
      "phix.fa.1           100%[===================>]   5.40K  --.-KB/s    in 0.003s  \n",
      "\n",
      "2022-12-09 19:48:29 (1.66 MB/s) - ‘phix.fa.1’ saved [5528/5528]\n",
      "\n"
     ]
    }
   ],
   "source": [
    "# Load phix_genome\n",
    "!wget http://d28rh4a8wq0iu5.cloudfront.net/ads1/data/phix.fa"
   ]
  },
  {
   "cell_type": "code",
   "execution_count": 128,
   "id": "7cc43410-606d-40a0-8742-ee774e4af279",
   "metadata": {},
   "outputs": [
    {
     "name": "stdout",
     "output_type": "stream",
     "text": [
      "offset of leftmost occurrence: 10\n"
     ]
    }
   ],
   "source": [
    "phix_genome = readGenome('phix.fa')\n",
    "index = Index(phix_genome, 2)\n",
    "occurrences,_ = k_mer_match_2mm(\"GATTACA\", phix_genome, index)\n",
    "print('offset of leftmost occurrence: %d' % min(occurrences))"
   ]
  },
  {
   "cell_type": "markdown",
   "id": "accda4bf-ce79-443b-92d9-e88c6af4be48",
   "metadata": {},
   "source": [
    "### Question 4\n",
    "How many times does the string GGCGCGGTGGCTCACGCCTGTAAT, which is derived from a human Alu sequence, occur with up to 2 substitutions in the excerpt of human chromosome 1?  (Don't consider reverse complements here.)"
   ]
  },
  {
   "cell_type": "code",
   "execution_count": 129,
   "id": "a9fc64de-77d0-401d-bac4-eeeb661838a4",
   "metadata": {},
   "outputs": [
    {
     "name": "stdout",
     "output_type": "stream",
     "text": [
      "GGCGCGGTGGCTCACGCCTGTAAT occurs 35 times in the excerpt of human chromosome 1\n"
     ]
    }
   ],
   "source": [
    "p=\"GGCGCGGTGGCTCACGCCTGTAAT\"\n",
    "index = Index(genome, 8)\n",
    "occurrences,totalHits = k_mer_match_2mm(p, genome, index)\n",
    "print( p + ' occurs %d times in the excerpt of human chromosome 1' % len(occurrences))"
   ]
  },
  {
   "cell_type": "markdown",
   "id": "3352a08a-0e0b-4b84-8ae8-f8796cf13eb1",
   "metadata": {},
   "source": [
    "<div class=\"alert alert-block alert-success\" style=\"text-align:center\">Verify matches </div>"
   ]
  },
  {
   "cell_type": "code",
   "execution_count": 130,
   "id": "0d890ae9-75f6-443c-bec4-d3f6a92cc638",
   "metadata": {},
   "outputs": [
    {
     "name": "stdout",
     "output_type": "stream",
     "text": [
      "[0, 0, 1, 1, 1, 1, 2, 1, 1, 1, 1, 0, 0, 1, 1, 0, 0, 2, 2, 1, 1, 1, 1, 2, 2, 2, 0, 0, 1, 1, 0, 0, 1, 1, 2]\n"
     ]
    }
   ],
   "source": [
    "mismatchAllOccurs= []\n",
    "for occ in occurrences: \n",
    "    hit = genome[occ: occ+len(p)]\n",
    "    mismatch = 0\n",
    "    for nt in range(len(x)):\n",
    "        if hit[nt] != p[nt]:\n",
    "            mismatch += 1\n",
    "    mismatchAllOccurs.append(mismatch)\n",
    "print(mismatchAllOccurs)"
   ]
  },
  {
   "cell_type": "markdown",
   "id": "8d39995c-3d1b-4a16-abff-865fe68b5aef",
   "metadata": {},
   "source": [
    "### Question 5\n",
    "Using the instructions given in Question 4, how many total index hits are there when searching for occurrences of GGCGCGGTGGCTCACGCCTGTAAT with up to 2 substitutions in the excerpt of human chromosome 1?\n",
    "(Don't consider reverse complements.)\n",
    "\n",
    "**Hint:** You should be able to use the boyer_moore function (or the slower naive function) to double-check your answer."
   ]
  },
  {
   "cell_type": "code",
   "execution_count": 132,
   "id": "e9ecfd1d-f5ea-47c6-a264-b04eb46792a1",
   "metadata": {},
   "outputs": [
    {
     "name": "stdout",
     "output_type": "stream",
     "text": [
      "k-mer indexing method returns 90 hits\n"
     ]
    }
   ],
   "source": [
    "print('k-mer indexing method returns %d hits' % totalHits)"
   ]
  },
  {
   "cell_type": "markdown",
   "id": "94f39c3f-9e6a-4708-9e1f-86070d6fe025",
   "metadata": {},
   "source": [
    "<div class=\"alert alert-block alert-success\" style=\"text-align:center\">Double-check with Boyer-Moore matching </div>"
   ]
  },
  {
   "cell_type": "code",
   "execution_count": 133,
   "id": "86a433de-6783-43ab-9eaa-9fc153a74cd5",
   "metadata": {},
   "outputs": [
    {
     "name": "stdout",
     "output_type": "stream",
     "text": [
      "Boyer-Moore method returns 90 hits\n"
     ]
    }
   ],
   "source": [
    "# split pattern into substrings of length 8\n",
    "partitions,_ = splitArray(p, 8)\n",
    "hits = []\n",
    "# for each substring run boyer-moore matching\n",
    "for st in partitions:\n",
    "    p_bm = BoyerMoore(st, alphabet='ACGT')\n",
    "    occurences,_,_ = boyer_moore_with_counts(st, p_bm, genome) \n",
    "    hits.extend(occurences)\n",
    "print('Boyer-Moore method returns %d hits' % len(hits))"
   ]
  },
  {
   "cell_type": "markdown",
   "id": "cf75400e-4bd8-42bc-9ef1-9e87cb43bc02",
   "metadata": {},
   "source": [
    "<h3 style=\"border-bottom: 1px solid\">k-mer indexing method with subsequence</h3>\n",
    "Let's examine whether there is a benefit to using an index built using subsequences of T rather than substrings.  We'll consider subsequences involving every N characters.  For example, if we split ATATAT into two substring partitions, we would get partitions ATA (the first half) and TAT (second half).  But if we split ATATAT into two  subsequences  by taking every other character, we would get AAA (first, third and fifth characters) and TTT (second, fourth and sixth).\n",
    "\n",
    "Another way to visualize this is using numbers to show how each character of P is allocated to a partition.  Splitting a length-6 pattern into two substrings could be represented as 111222, and splitting into two subsequences of every other character could be represented as 121212"
   ]
  },
  {
   "cell_type": "code",
   "execution_count": 134,
   "id": "a7283ef4-503f-4bf8-8a0d-cbf797843537",
   "metadata": {},
   "outputs": [],
   "source": [
    "class SubseqIndex(object):\n",
    "    \"\"\" Holds a subsequence index for a text T \"\"\"\n",
    "\n",
    "    def __init__(self, t, k, ival):\n",
    "        \"\"\" Create index from all subsequences consisting of k characters\n",
    "            spaced ival positions apart.  E.g., SubseqIndex(\"ATAT\", 2, 2)\n",
    "            extracts (\"AA\", 0) and (\"TT\", 1). \"\"\"\n",
    "        self.k = k  # num characters per subsequence extracted\n",
    "        self.ival = ival  # space between them; 1=adjacent, 2=every other, etc\n",
    "        self.index = []\n",
    "        self.span = 1 + ival * (k - 1)\n",
    "        for i in range(len(t) - self.span + 1):  # for each subseq\n",
    "            self.index.append((t[i:i+self.span:ival], i))  # add (subseq, offset)\n",
    "        self.index.sort()  # alphabetize by subseq\n",
    "\n",
    "    def query(self, p):\n",
    "        \"\"\" Return index hits for first subseq of p \"\"\"\n",
    "        subseq = p[:self.span:self.ival]  # query with first subseq\n",
    "        i = bisect.bisect_left(self.index, (subseq, -1))  # binary search\n",
    "        hits = []\n",
    "        while i < len(self.index):  # collect matching index entries\n",
    "            if self.index[i][0] != subseq:\n",
    "                break\n",
    "            hits.append(self.index[i][1])\n",
    "            i += 1\n",
    "        return hits"
   ]
  },
  {
   "cell_type": "markdown",
   "id": "3b4c7d8f-11f8-47c2-ad08-2489d3062086",
   "metadata": {},
   "source": [
    "**Problem:** Write a function that, given a length-24 pattern P and given a SubseqIndex object built with k = 8 and ival = 3, finds all approximate occurrences of P within T with up to 2 mismatches."
   ]
  },
  {
   "cell_type": "code",
   "execution_count": 135,
   "id": "54211405-1e43-4c89-be4d-4a5b6551ab87",
   "metadata": {},
   "outputs": [],
   "source": [
    "''' function: use k-mer index data to find matches '''\n",
    "def k_mer_match_Subseq2mm(p, t, index):\n",
    "    k = index.k\n",
    "    ival = index.ival\n",
    "    \n",
    "    occurrences = []\n",
    "    totalHits = 0\n",
    "    \n",
    "    #for each partition of p\n",
    "    for leftOffsetTarget in range(ival):\n",
    "        target = p[leftOffsetTarget:]\n",
    "        indexHitsForPartition = index.query(target)\n",
    "            \n",
    "        #if match found\n",
    "        if len(indexHitsForPartition)>0:\n",
    "            \n",
    "            '''count index hits'''\n",
    "            totalHits += len(indexHitsForPartition)\n",
    "                        \n",
    "            #for every index hit\n",
    "            for i in indexHitsForPartition:\n",
    "                \n",
    "                hitIndexOffset = i-leftOffsetTarget\n",
    "                # if hit is not already added\n",
    "                if occurrences.count(hitIndexOffset)==0:              \n",
    "                    '''count mismatch at index hit offset: only 2 mismatch is allowed'''\n",
    "                    mismatch = 0 \n",
    "                    # For each nucleotide of p\n",
    "                    for nt in range(len(p)):\n",
    "                        # if mismatch at nt\n",
    "                        if t[hitIndexOffset+nt] != p[nt]:\n",
    "                            mismatch += 1\n",
    "\n",
    "                    #if #mismatch <= 2 on all of p, append hit\n",
    "                    if mismatch <= 2:\n",
    "                        occurrences.append(hitIndexOffset)\n",
    "        \n",
    "    return occurrences, totalHits"
   ]
  },
  {
   "cell_type": "markdown",
   "id": "6ae4763c-e9e3-4a66-8ab0-2c1475f6a829",
   "metadata": {},
   "source": [
    "<div class=\"alert alert-block alert-success\" style=\"text-align:center\">k-mer with subsequence Test 1 </div>"
   ]
  },
  {
   "cell_type": "code",
   "execution_count": 136,
   "id": "0b98e11c-a61a-411f-b792-7e8c58d6cf60",
   "metadata": {},
   "outputs": [
    {
     "name": "stdout",
     "output_type": "stream",
     "text": [
      "[0, 14]\n",
      "6\n"
     ]
    }
   ],
   "source": [
    "t = 'to-morrow and to-morrow and to-morrow creeps in this petty pace'\n",
    "p = 'to-morrow and to-morrow '\n",
    "subseq_ind = SubseqIndex(t, 8, 3)\n",
    "occurrences, num_index_hits = k_mer_match_Subseq2mm(p, t, subseq_ind)\n",
    "print(occurrences)\n",
    "print(num_index_hits)"
   ]
  },
  {
   "cell_type": "markdown",
   "id": "e3488a1a-8eac-4161-9192-3a7780918f56",
   "metadata": {},
   "source": [
    "<div class=\"alert alert-block alert-success\" style=\"text-align:center\">k-mer with subsequence Test 2 </div>"
   ]
  },
  {
   "cell_type": "code",
   "execution_count": 137,
   "id": "a1a25c6c-2880-47ff-baf6-06499c62a62b",
   "metadata": {},
   "outputs": [
    {
     "name": "stdout",
     "output_type": "stream",
     "text": [
      "--2022-12-09 19:51:56--  http://www.gutenberg.org/ebooks/1110.txt.utf-8\n",
      "Resolving www.gutenberg.org (www.gutenberg.org)... 152.19.134.47, 2610:28:3090:3000:0:bad:cafe:47\n",
      "Connecting to www.gutenberg.org (www.gutenberg.org)|152.19.134.47|:80... connected.\n",
      "HTTP request sent, awaiting response... 302 Found\n",
      "Location: https://www.gutenberg.org/ebooks/1110.txt.utf-8 [following]\n",
      "--2022-12-09 19:51:58--  https://www.gutenberg.org/ebooks/1110.txt.utf-8\n",
      "Loaded CA certificate '/etc/ssl/certs/ca-certificates.crt'\n",
      "Connecting to www.gutenberg.org (www.gutenberg.org)|152.19.134.47|:443... connected.\n",
      "HTTP request sent, awaiting response... 302 Found\n",
      "Location: https://www.gutenberg.org/cache/epub/1110/pg1110.txt [following]\n",
      "--2022-12-09 19:51:59--  https://www.gutenberg.org/cache/epub/1110/pg1110.txt\n",
      "Reusing existing connection to www.gutenberg.org:443.\n",
      "HTTP request sent, awaiting response... 200 OK\n",
      "Length: 145815 (142K) [text/plain]\n",
      "Saving to: ‘1110.txt.utf-8.1’\n",
      "\n",
      "1110.txt.utf-8.1    100%[===================>] 142.40K   303KB/s    in 0.5s    \n",
      "\n",
      "2022-12-09 19:52:00 (303 KB/s) - ‘1110.txt.utf-8.1’ saved [145815/145815]\n",
      "\n"
     ]
    }
   ],
   "source": [
    "# Load King John by William Shakespeare\n",
    "!wget http://www.gutenberg.org/ebooks/1110.txt.utf-8"
   ]
  },
  {
   "cell_type": "code",
   "execution_count": 138,
   "id": "768aa5df-61b4-4542-8e3a-403512c8213b",
   "metadata": {},
   "outputs": [
    {
     "name": "stdout",
     "output_type": "stream",
     "text": [
      "[132574]\n",
      "3\n"
     ]
    }
   ],
   "source": [
    "t = open('1110.txt.utf-8').read()\n",
    "p = 'English measure backward'\n",
    "subseq_ind = SubseqIndex(t, 8, 3)\n",
    "occurrences, num_index_hits = k_mer_match_Subseq2mm(p, t, subseq_ind)\n",
    "print(occurrences)\n",
    "print(num_index_hits)"
   ]
  },
  {
   "cell_type": "markdown",
   "id": "82d531f4-49e6-4e3c-9f86-d7a0ed806f3b",
   "metadata": {},
   "source": [
    "### Question 6\n",
    "When using this function, how many total index hits are there when searching for GGCGCGGTGGCTCACGCCTGTAAT with up to 2 substitutions in the excerpt of human chromosome 1?  (Again, don't consider reverse complements.)"
   ]
  },
  {
   "cell_type": "code",
   "execution_count": 139,
   "id": "1810c4c6-4475-4cf8-af8f-e97f83379737",
   "metadata": {},
   "outputs": [
    {
     "name": "stdout",
     "output_type": "stream",
     "text": [
      "k-mer indexing method with subsequence returns 79 hits\n"
     ]
    }
   ],
   "source": [
    "p = \"GGCGCGGTGGCTCACGCCTGTAAT\"\n",
    "subseq_ind = SubseqIndex(genome, 8, 3)\n",
    "occurrences, num_index_hits = k_mer_match_Subseq2mm(p, genome, subseq_ind)\n",
    "print('k-mer indexing method with subsequence returns %d hits' % num_index_hits)"
   ]
  },
  {
   "cell_type": "markdown",
   "id": "c6bc1a2b-1bd6-416b-b1bf-aa00b7ab0ced",
   "metadata": {},
   "source": [
    "<div class=\"alert alert-block alert-success\" style=\"text-align:center\">Verify matches </div>"
   ]
  },
  {
   "cell_type": "code",
   "execution_count": 140,
   "id": "166c1dbe-dddb-4a77-8150-af147900a0b8",
   "metadata": {},
   "outputs": [
    {
     "name": "stdout",
     "output_type": "stream",
     "text": [
      "[0, 1, 1, 1, 0, 1, 0, 1, 2, 0, 1, 0, 2, 2, 1, 2, 1, 2, 1]\n"
     ]
    }
   ],
   "source": [
    "mismatchAllOccurs= []\n",
    "for occ in occurrences: \n",
    "    hit = genome[occ: occ+len(p)]\n",
    "    mismatch = 0\n",
    "    for nt in range(len(x)):\n",
    "        if hit[nt] != p[nt]:\n",
    "            mismatch += 1\n",
    "    mismatchAllOccurs.append(mismatch)\n",
    "print(mismatchAllOccurs)"
   ]
  }
 ],
 "metadata": {
  "kernelspec": {
   "display_name": "Python 3 (ipykernel)",
   "language": "python",
   "name": "python3"
  },
  "language_info": {
   "codemirror_mode": {
    "name": "ipython",
    "version": 3
   },
   "file_extension": ".py",
   "mimetype": "text/x-python",
   "name": "python",
   "nbconvert_exporter": "python",
   "pygments_lexer": "ipython3",
   "version": "3.10.8"
  }
 },
 "nbformat": 4,
 "nbformat_minor": 5
}
